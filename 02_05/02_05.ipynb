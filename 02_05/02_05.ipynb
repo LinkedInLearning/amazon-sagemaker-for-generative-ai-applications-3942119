{
 "cells": [
  {
   "cell_type": "markdown",
   "id": "2656b1bd-cb3b-4a45-b0be-5da08d4a1295",
   "metadata": {},
   "source": [
    "# 02_05_Solution: Pre-train a Foundation Model"
   ]
  },
  {
   "cell_type": "markdown",
   "id": "74d170ad-75f7-456d-a634-590363b4e6da",
   "metadata": {},
   "source": [
    "## Import the Necessary Libraries"
   ]
  },
  {
   "cell_type": "code",
   "execution_count": 1,
   "id": "6cd33428-546f-484e-bca4-b66ba01ac8da",
   "metadata": {},
   "outputs": [
    {
     "name": "stderr",
     "output_type": "stream",
     "text": [
      "/opt/conda/lib/python3.12/site-packages/pydantic/_internal/_fields.py:192: UserWarning: Field name \"json\" in \"MonitoringDatasetFormat\" shadows an attribute in parent \"Base\"\n",
      "  warnings.warn(\n"
     ]
    },
    {
     "name": "stdout",
     "output_type": "stream",
     "text": [
      "sagemaker.config INFO - Not applying SDK defaults from location: /etc/xdg/sagemaker/config.yaml\n",
      "sagemaker.config INFO - Not applying SDK defaults from location: /home/sagemaker-user/.config/sagemaker/config.yaml\n"
     ]
    },
    {
     "name": "stderr",
     "output_type": "stream",
     "text": [
      "2025-05-11 22:40:01.654977: I tensorflow/core/util/port.cc:153] oneDNN custom operations are on. You may see slightly different numerical results due to floating-point round-off errors from different computation orders. To turn them off, set the environment variable `TF_ENABLE_ONEDNN_OPTS=0`.\n",
      "2025-05-11 22:40:01.669161: E external/local_xla/xla/stream_executor/cuda/cuda_fft.cc:477] Unable to register cuFFT factory: Attempting to register factory for plugin cuFFT when one has already been registered\n",
      "WARNING: All log messages before absl::InitializeLog() is called are written to STDERR\n",
      "E0000 00:00:1747003201.688411    1753 cuda_dnn.cc:8310] Unable to register cuDNN factory: Attempting to register factory for plugin cuDNN when one has already been registered\n",
      "E0000 00:00:1747003201.694463    1753 cuda_blas.cc:1418] Unable to register cuBLAS factory: Attempting to register factory for plugin cuBLAS when one has already been registered\n",
      "2025-05-11 22:40:01.712876: I tensorflow/core/platform/cpu_feature_guard.cc:210] This TensorFlow binary is optimized to use available CPU instructions in performance-critical operations.\n",
      "To enable the following instructions: SSE4.1 SSE4.2 AVX AVX2 AVX512F AVX512_VNNI FMA, in other operations, rebuild TensorFlow with the appropriate compiler flags.\n"
     ]
    }
   ],
   "source": [
    "import pandas as pd\n",
    "import boto3\n",
    "import sagemaker\n",
    "from datasets import Dataset\n",
    "from transformers import AutoTokenizer, AutoModelForMaskedLM, Trainer, TrainingArguments, DataCollatorForLanguageModeling\n",
    "import os"
   ]
  },
  {
   "cell_type": "markdown",
   "id": "89ddbef8-b6e2-4da5-8af7-f8da20df11b4",
   "metadata": {},
   "source": [
    "## Load and preprocess the Legal dataset"
   ]
  },
  {
   "cell_type": "code",
   "execution_count": 2,
   "id": "1b524cbe-c24d-43f4-8631-c2719e47c9de",
   "metadata": {
    "scrolled": true
   },
   "outputs": [
    {
     "data": {
      "text/html": [
       "<div>\n",
       "<style scoped>\n",
       "    .dataframe tbody tr th:only-of-type {\n",
       "        vertical-align: middle;\n",
       "    }\n",
       "\n",
       "    .dataframe tbody tr th {\n",
       "        vertical-align: top;\n",
       "    }\n",
       "\n",
       "    .dataframe thead th {\n",
       "        text-align: right;\n",
       "    }\n",
       "</style>\n",
       "<table border=\"1\" class=\"dataframe\">\n",
       "  <thead>\n",
       "    <tr style=\"text-align: right;\">\n",
       "      <th></th>\n",
       "      <th>DocumentID</th>\n",
       "      <th>Title</th>\n",
       "      <th>LegalText</th>\n",
       "      <th>Source</th>\n",
       "    </tr>\n",
       "  </thead>\n",
       "  <tbody>\n",
       "    <tr>\n",
       "      <th>0</th>\n",
       "      <td>DOC001</td>\n",
       "      <td>Court Opinion - Intellectual Property Case</td>\n",
       "      <td>The Receiving Party agrees not to disclose any...</td>\n",
       "      <td>Public Domain - Court Opinion</td>\n",
       "    </tr>\n",
       "    <tr>\n",
       "      <th>1</th>\n",
       "      <td>DOC002</td>\n",
       "      <td>Terms of Service - E-commerce Platform</td>\n",
       "      <td>The Receiving Party agrees not to disclose any...</td>\n",
       "      <td>Court Ruling - Privacy Violation</td>\n",
       "    </tr>\n",
       "    <tr>\n",
       "      <th>2</th>\n",
       "      <td>DOC003</td>\n",
       "      <td>Contract - Non-Disclosure Agreement (NDA)</td>\n",
       "      <td>We collect data such as your name, email, and ...</td>\n",
       "      <td>Public Notice - Consumer Rights Act</td>\n",
       "    </tr>\n",
       "    <tr>\n",
       "      <th>3</th>\n",
       "      <td>DOC004</td>\n",
       "      <td>Supreme Court Opinion - Freedom of Speech</td>\n",
       "      <td>Consumers are entitled to clear and concise in...</td>\n",
       "      <td>Public Domain - Court Opinion</td>\n",
       "    </tr>\n",
       "    <tr>\n",
       "      <th>4</th>\n",
       "      <td>DOC005</td>\n",
       "      <td>Contract - Non-Disclosure Agreement (NDA)</td>\n",
       "      <td>The court held that the unauthorized use of pa...</td>\n",
       "      <td>Public Document - ToS</td>\n",
       "    </tr>\n",
       "    <tr>\n",
       "      <th>...</th>\n",
       "      <td>...</td>\n",
       "      <td>...</td>\n",
       "      <td>...</td>\n",
       "      <td>...</td>\n",
       "    </tr>\n",
       "    <tr>\n",
       "      <th>495</th>\n",
       "      <td>DOC496</td>\n",
       "      <td>Public Notice - Consumer Rights</td>\n",
       "      <td>Data should be retained only as long as necess...</td>\n",
       "      <td>Policy Document - Data Retention Guidelines</td>\n",
       "    </tr>\n",
       "    <tr>\n",
       "      <th>496</th>\n",
       "      <td>DOC497</td>\n",
       "      <td>Court Ruling - Data Privacy Violation</td>\n",
       "      <td>The ruling emphasized the need for organizatio...</td>\n",
       "      <td>Public Document - ToS</td>\n",
       "    </tr>\n",
       "    <tr>\n",
       "      <th>497</th>\n",
       "      <td>DOC498</td>\n",
       "      <td>Court Ruling - Data Privacy Violation</td>\n",
       "      <td>The ruling emphasized the need for organizatio...</td>\n",
       "      <td>Public Domain - Court Opinion</td>\n",
       "    </tr>\n",
       "    <tr>\n",
       "      <th>498</th>\n",
       "      <td>DOC499</td>\n",
       "      <td>Legal Policy - Data Retention</td>\n",
       "      <td>The court held that the unauthorized use of pa...</td>\n",
       "      <td>Public Domain - Court Opinion</td>\n",
       "    </tr>\n",
       "    <tr>\n",
       "      <th>499</th>\n",
       "      <td>DOC500</td>\n",
       "      <td>Contract - Non-Disclosure Agreement (NDA)</td>\n",
       "      <td>The court held that the unauthorized use of pa...</td>\n",
       "      <td>Policy Document - Data Retention Guidelines</td>\n",
       "    </tr>\n",
       "  </tbody>\n",
       "</table>\n",
       "<p>500 rows × 4 columns</p>\n",
       "</div>"
      ],
      "text/plain": [
       "    DocumentID                                       Title  \\\n",
       "0       DOC001  Court Opinion - Intellectual Property Case   \n",
       "1       DOC002      Terms of Service - E-commerce Platform   \n",
       "2       DOC003   Contract - Non-Disclosure Agreement (NDA)   \n",
       "3       DOC004   Supreme Court Opinion - Freedom of Speech   \n",
       "4       DOC005   Contract - Non-Disclosure Agreement (NDA)   \n",
       "..         ...                                         ...   \n",
       "495     DOC496             Public Notice - Consumer Rights   \n",
       "496     DOC497       Court Ruling - Data Privacy Violation   \n",
       "497     DOC498       Court Ruling - Data Privacy Violation   \n",
       "498     DOC499               Legal Policy - Data Retention   \n",
       "499     DOC500   Contract - Non-Disclosure Agreement (NDA)   \n",
       "\n",
       "                                             LegalText  \\\n",
       "0    The Receiving Party agrees not to disclose any...   \n",
       "1    The Receiving Party agrees not to disclose any...   \n",
       "2    We collect data such as your name, email, and ...   \n",
       "3    Consumers are entitled to clear and concise in...   \n",
       "4    The court held that the unauthorized use of pa...   \n",
       "..                                                 ...   \n",
       "495  Data should be retained only as long as necess...   \n",
       "496  The ruling emphasized the need for organizatio...   \n",
       "497  The ruling emphasized the need for organizatio...   \n",
       "498  The court held that the unauthorized use of pa...   \n",
       "499  The court held that the unauthorized use of pa...   \n",
       "\n",
       "                                          Source  \n",
       "0                  Public Domain - Court Opinion  \n",
       "1               Court Ruling - Privacy Violation  \n",
       "2            Public Notice - Consumer Rights Act  \n",
       "3                  Public Domain - Court Opinion  \n",
       "4                          Public Document - ToS  \n",
       "..                                           ...  \n",
       "495  Policy Document - Data Retention Guidelines  \n",
       "496                        Public Document - ToS  \n",
       "497                Public Domain - Court Opinion  \n",
       "498                Public Domain - Court Opinion  \n",
       "499  Policy Document - Data Retention Guidelines  \n",
       "\n",
       "[500 rows x 4 columns]"
      ]
     },
     "execution_count": 2,
     "metadata": {},
     "output_type": "execute_result"
    }
   ],
   "source": [
    "df = pd.read_csv('AmznSagemaker_3942119_dataset.csv')\n",
    "df"
   ]
  },
  {
   "cell_type": "code",
   "execution_count": 3,
   "id": "2f17a993-f291-4cd5-913f-96f232f59256",
   "metadata": {},
   "outputs": [
    {
     "data": {
      "text/html": [
       "<div>\n",
       "<style scoped>\n",
       "    .dataframe tbody tr th:only-of-type {\n",
       "        vertical-align: middle;\n",
       "    }\n",
       "\n",
       "    .dataframe tbody tr th {\n",
       "        vertical-align: top;\n",
       "    }\n",
       "\n",
       "    .dataframe thead th {\n",
       "        text-align: right;\n",
       "    }\n",
       "</style>\n",
       "<table border=\"1\" class=\"dataframe\">\n",
       "  <thead>\n",
       "    <tr style=\"text-align: right;\">\n",
       "      <th></th>\n",
       "      <th>text</th>\n",
       "    </tr>\n",
       "  </thead>\n",
       "  <tbody>\n",
       "    <tr>\n",
       "      <th>0</th>\n",
       "      <td>Court Opinion - Intellectual Property Case The...</td>\n",
       "    </tr>\n",
       "    <tr>\n",
       "      <th>1</th>\n",
       "      <td>Terms of Service - E-commerce Platform The Rec...</td>\n",
       "    </tr>\n",
       "    <tr>\n",
       "      <th>2</th>\n",
       "      <td>Contract - Non-Disclosure Agreement (NDA) We c...</td>\n",
       "    </tr>\n",
       "    <tr>\n",
       "      <th>3</th>\n",
       "      <td>Supreme Court Opinion - Freedom of Speech Cons...</td>\n",
       "    </tr>\n",
       "    <tr>\n",
       "      <th>4</th>\n",
       "      <td>Contract - Non-Disclosure Agreement (NDA) The ...</td>\n",
       "    </tr>\n",
       "  </tbody>\n",
       "</table>\n",
       "</div>"
      ],
      "text/plain": [
       "                                                text\n",
       "0  Court Opinion - Intellectual Property Case The...\n",
       "1  Terms of Service - E-commerce Platform The Rec...\n",
       "2  Contract - Non-Disclosure Agreement (NDA) We c...\n",
       "3  Supreme Court Opinion - Freedom of Speech Cons...\n",
       "4  Contract - Non-Disclosure Agreement (NDA) The ..."
      ]
     },
     "execution_count": 3,
     "metadata": {},
     "output_type": "execute_result"
    }
   ],
   "source": [
    "# Combine 'Title' and 'LegalText' into a single 'text' field\n",
    "df['text'] = df['Title'].fillna('') + \" \" + df['LegalText'].fillna('')\n",
    "\n",
    "# Drop rows with missing text\n",
    "df = df[df['text'].str.strip() != '']\n",
    "\n",
    "# Keep only 'text' column\n",
    "df = df[['text']]\n",
    "df.head()"
   ]
  },
  {
   "cell_type": "markdown",
   "id": "c32d16af-eaf0-430f-ae3d-e93db65523fd",
   "metadata": {},
   "source": [
    "## Split into train/test"
   ]
  },
  {
   "cell_type": "code",
   "execution_count": 4,
   "id": "e59ab8d6-2aae-4908-ab36-0aacb8074c41",
   "metadata": {},
   "outputs": [],
   "source": [
    "from sklearn.model_selection import train_test_split\n",
    "\n",
    "train_texts, test_texts = train_test_split(df['text'].tolist(), test_size=0.2, random_state=42)\n",
    "\n",
    "train_dataset = Dataset.from_dict({'text': train_texts})\n",
    "test_dataset = Dataset.from_dict({'text': test_texts})"
   ]
  },
  {
   "cell_type": "markdown",
   "id": "fb7df5f6-63b6-42d2-9c15-9d49252575f9",
   "metadata": {},
   "source": [
    "## Save training and testing data as CSV files"
   ]
  },
  {
   "cell_type": "code",
   "execution_count": 5,
   "id": "43e59a2d-7d12-45e7-b8eb-628f0b211e4e",
   "metadata": {},
   "outputs": [
    {
     "data": {
      "application/vnd.jupyter.widget-view+json": {
       "model_id": "28a4244a809243cb902a61b557dd1e1f",
       "version_major": 2,
       "version_minor": 0
      },
      "text/plain": [
       "Creating CSV from Arrow format:   0%|          | 0/1 [00:00<?, ?ba/s]"
      ]
     },
     "metadata": {},
     "output_type": "display_data"
    },
    {
     "data": {
      "application/vnd.jupyter.widget-view+json": {
       "model_id": "205fcf6a894f428e937d5dae3282cc43",
       "version_major": 2,
       "version_minor": 0
      },
      "text/plain": [
       "Creating CSV from Arrow format:   0%|          | 0/1 [00:00<?, ?ba/s]"
      ]
     },
     "metadata": {},
     "output_type": "display_data"
    },
    {
     "data": {
      "text/plain": [
       "16102"
      ]
     },
     "execution_count": 5,
     "metadata": {},
     "output_type": "execute_result"
    }
   ],
   "source": [
    "# Specify the file path for the CSV file\n",
    "train_file_path = \"train_dataset.csv\"\n",
    "test_file_path = \"test_dataset.csv\"\n",
    "\n",
    "# Save the dataset to a CSV file\n",
    "train_dataset.to_csv(train_file_path)\n",
    "test_dataset.to_csv(test_file_path)"
   ]
  },
  {
   "cell_type": "markdown",
   "id": "56d17894-1ee1-4c75-9289-e00eb96f4597",
   "metadata": {},
   "source": [
    "## Tokenize datasets"
   ]
  },
  {
   "cell_type": "code",
   "execution_count": 6,
   "id": "56a65d0b-87a6-49d9-8197-072dda0c846c",
   "metadata": {},
   "outputs": [
    {
     "data": {
      "text/html": [
       "<pre style=\"white-space:pre;overflow-x:auto;line-height:normal;font-family:Menlo,'DejaVu Sans Mono',consolas,'Courier New',monospace\"><span style=\"color: #7fbfbf; text-decoration-color: #7fbfbf\">[05/11/25 22:40:03] </span><span style=\"color: #d7af00; text-decoration-color: #d7af00; font-weight: bold\">WARNING </span> Parameter <span style=\"color: #008700; text-decoration-color: #008700\">'function'</span>=<span style=\"font-weight: bold\">&lt;</span><span style=\"color: #e100e1; text-decoration-color: #e100e1; font-weight: bold\">function</span><span style=\"color: #000000; text-decoration-color: #000000\"> tokenize_function at </span><span style=\"color: #008080; text-decoration-color: #008080; font-weight: bold\">0x7ff05111ade0</span><span style=\"font-weight: bold\">&gt;</span> <a href=\"file:///opt/conda/lib/python3.12/site-packages/datasets/fingerprint.py\" target=\"_blank\"><span style=\"color: #7f7f7f; text-decoration-color: #7f7f7f\">fingerprint.py</span></a><span style=\"color: #7f7f7f; text-decoration-color: #7f7f7f\">:</span><a href=\"file:///opt/conda/lib/python3.12/site-packages/datasets/fingerprint.py#328\" target=\"_blank\"><span style=\"color: #7f7f7f; text-decoration-color: #7f7f7f\">328</span></a>\n",
       "<span style=\"color: #7fbfbf; text-decoration-color: #7fbfbf\">                    </span>         of the transform datasets.arrow_dataset.Dataset._map_single         <span style=\"color: #7f7f7f; text-decoration-color: #7f7f7f\">                  </span>\n",
       "<span style=\"color: #7fbfbf; text-decoration-color: #7fbfbf\">                    </span>         couldn't be hashed properly, a random hash was used instead. Make   <span style=\"color: #7f7f7f; text-decoration-color: #7f7f7f\">                  </span>\n",
       "<span style=\"color: #7fbfbf; text-decoration-color: #7fbfbf\">                    </span>         sure your transforms and parameters are serializable with pickle or <span style=\"color: #7f7f7f; text-decoration-color: #7f7f7f\">                  </span>\n",
       "<span style=\"color: #7fbfbf; text-decoration-color: #7fbfbf\">                    </span>         dill for the dataset fingerprinting and caching to work. If you     <span style=\"color: #7f7f7f; text-decoration-color: #7f7f7f\">                  </span>\n",
       "<span style=\"color: #7fbfbf; text-decoration-color: #7fbfbf\">                    </span>         reuse this transform, the caching mechanism will consider it to be  <span style=\"color: #7f7f7f; text-decoration-color: #7f7f7f\">                  </span>\n",
       "<span style=\"color: #7fbfbf; text-decoration-color: #7fbfbf\">                    </span>         different from the previous calls and recompute everything. This    <span style=\"color: #7f7f7f; text-decoration-color: #7f7f7f\">                  </span>\n",
       "<span style=\"color: #7fbfbf; text-decoration-color: #7fbfbf\">                    </span>         warning is only showed once. Subsequent hashing failures won't be   <span style=\"color: #7f7f7f; text-decoration-color: #7f7f7f\">                  </span>\n",
       "<span style=\"color: #7fbfbf; text-decoration-color: #7fbfbf\">                    </span>         showed.                                                             <span style=\"color: #7f7f7f; text-decoration-color: #7f7f7f\">                  </span>\n",
       "</pre>\n"
      ],
      "text/plain": [
       "\u001b[2;36m[05/11/25 22:40:03]\u001b[0m\u001b[2;36m \u001b[0m\u001b[1;38;2;215;175;0mWARNING \u001b[0m Parameter \u001b[38;2;0;135;0m'function'\u001b[0m=\u001b[1m<\u001b[0m\u001b[1;38;2;225;0;225mfunction\u001b[0m\u001b[39m tokenize_function at \u001b[0m\u001b[1;36m0x7ff05111ade0\u001b[0m\u001b[1m>\u001b[0m \u001b]8;id=76488;file:///opt/conda/lib/python3.12/site-packages/datasets/fingerprint.py\u001b\\\u001b[2mfingerprint.py\u001b[0m\u001b]8;;\u001b\\\u001b[2m:\u001b[0m\u001b]8;id=978253;file:///opt/conda/lib/python3.12/site-packages/datasets/fingerprint.py#328\u001b\\\u001b[2m328\u001b[0m\u001b]8;;\u001b\\\n",
       "\u001b[2;36m                    \u001b[0m         of the transform datasets.arrow_dataset.Dataset._map_single         \u001b[2m                  \u001b[0m\n",
       "\u001b[2;36m                    \u001b[0m         couldn't be hashed properly, a random hash was used instead. Make   \u001b[2m                  \u001b[0m\n",
       "\u001b[2;36m                    \u001b[0m         sure your transforms and parameters are serializable with pickle or \u001b[2m                  \u001b[0m\n",
       "\u001b[2;36m                    \u001b[0m         dill for the dataset fingerprinting and caching to work. If you     \u001b[2m                  \u001b[0m\n",
       "\u001b[2;36m                    \u001b[0m         reuse this transform, the caching mechanism will consider it to be  \u001b[2m                  \u001b[0m\n",
       "\u001b[2;36m                    \u001b[0m         different from the previous calls and recompute everything. This    \u001b[2m                  \u001b[0m\n",
       "\u001b[2;36m                    \u001b[0m         warning is only showed once. Subsequent hashing failures won't be   \u001b[2m                  \u001b[0m\n",
       "\u001b[2;36m                    \u001b[0m         showed.                                                             \u001b[2m                  \u001b[0m\n"
      ]
     },
     "metadata": {},
     "output_type": "display_data"
    },
    {
     "data": {
      "application/vnd.jupyter.widget-view+json": {
       "model_id": "3f04f3c1f221454e9b65e80ad6c82bd0",
       "version_major": 2,
       "version_minor": 0
      },
      "text/plain": [
       "  0%|          | 0/1 [00:00<?, ?ba/s]"
      ]
     },
     "metadata": {},
     "output_type": "display_data"
    },
    {
     "data": {
      "application/vnd.jupyter.widget-view+json": {
       "model_id": "276636220345411d86a0c0cb003d8e3d",
       "version_major": 2,
       "version_minor": 0
      },
      "text/plain": [
       "  0%|          | 0/1 [00:00<?, ?ba/s]"
      ]
     },
     "metadata": {},
     "output_type": "display_data"
    }
   ],
   "source": [
    "model_checkpoint = 'distilbert-base-uncased'\n",
    "tokenizer = AutoTokenizer.from_pretrained(model_checkpoint)\n",
    "\n",
    "def tokenize_function(examples):\n",
    "    return tokenizer(examples['text'], truncation=True, padding='max_length', max_length=128)\n",
    "\n",
    "tokenized_train = train_dataset.map(tokenize_function, batched=True)\n",
    "tokenized_test = test_dataset.map(tokenize_function, batched=True)"
   ]
  },
  {
   "cell_type": "markdown",
   "id": "ad8f7989-f1a0-459b-b4e0-5a9bc4161f78",
   "metadata": {},
   "source": [
    "## Create data collator for masked language modeling"
   ]
  },
  {
   "cell_type": "code",
   "execution_count": 7,
   "id": "611e72f7-6139-4b7d-8dd9-b760ecacefa9",
   "metadata": {},
   "outputs": [],
   "source": [
    "data_collator = DataCollatorForLanguageModeling(\n",
    "    tokenizer=tokenizer, \n",
    "    mlm=True, \n",
    "    mlm_probability=0.15\n",
    ")"
   ]
  },
  {
   "cell_type": "markdown",
   "id": "0926038f-c469-4f33-b093-4e0e6fcec763",
   "metadata": {},
   "source": [
    "## Load model with random initialization (pre-training style)"
   ]
  },
  {
   "cell_type": "code",
   "execution_count": 8,
   "id": "9d08cb02-3fe1-4c86-8ff8-c453b2a9e82e",
   "metadata": {},
   "outputs": [],
   "source": [
    "model = AutoModelForMaskedLM.from_pretrained(model_checkpoint)"
   ]
  },
  {
   "cell_type": "markdown",
   "id": "cfc82a2b-ef14-469b-b36b-1cae40545d5b",
   "metadata": {},
   "source": [
    "## Set up SageMaker Estimator inside the Notebook"
   ]
  },
  {
   "cell_type": "code",
   "execution_count": 9,
   "id": "6b1d68af-43f7-4141-846a-be01dea93e80",
   "metadata": {},
   "outputs": [],
   "source": [
    "# Training arguments\n",
    "output_dir = './results'\n",
    "\n",
    "training_args = TrainingArguments(\n",
    "    output_dir=output_dir,\n",
    "    overwrite_output_dir=True,\n",
    "    num_train_epochs=3,\n",
    "    per_device_train_batch_size=16,\n",
    "    per_device_eval_batch_size=16,\n",
    "    eval_strategy=\"epoch\",\n",
    "    save_strategy=\"epoch\",\n",
    "    logging_dir=f'{output_dir}/logs',\n",
    "    logging_steps=10,\n",
    ")"
   ]
  },
  {
   "cell_type": "markdown",
   "id": "36735988-a938-4e1d-8fa6-44bb5a2271b0",
   "metadata": {},
   "source": [
    "## Define Trainer and start training"
   ]
  },
  {
   "cell_type": "code",
   "execution_count": 10,
   "id": "894de921-1487-4c79-8f7b-d8d0693306f7",
   "metadata": {},
   "outputs": [
    {
     "data": {
      "text/html": [
       "\n",
       "    <div>\n",
       "      \n",
       "      <progress value='75' max='75' style='width:300px; height:20px; vertical-align: middle;'></progress>\n",
       "      [75/75 00:41, Epoch 3/3]\n",
       "    </div>\n",
       "    <table border=\"1\" class=\"dataframe\">\n",
       "  <thead>\n",
       " <tr style=\"text-align: left;\">\n",
       "      <th>Epoch</th>\n",
       "      <th>Training Loss</th>\n",
       "      <th>Validation Loss</th>\n",
       "    </tr>\n",
       "  </thead>\n",
       "  <tbody>\n",
       "    <tr>\n",
       "      <td>1</td>\n",
       "      <td>1.403500</td>\n",
       "      <td>0.624673</td>\n",
       "    </tr>\n",
       "    <tr>\n",
       "      <td>2</td>\n",
       "      <td>0.293300</td>\n",
       "      <td>0.329919</td>\n",
       "    </tr>\n",
       "    <tr>\n",
       "      <td>3</td>\n",
       "      <td>0.301200</td>\n",
       "      <td>0.235383</td>\n",
       "    </tr>\n",
       "  </tbody>\n",
       "</table><p>"
      ],
      "text/plain": [
       "<IPython.core.display.HTML object>"
      ]
     },
     "metadata": {},
     "output_type": "display_data"
    },
    {
     "data": {
      "text/plain": [
       "TrainOutput(global_step=75, training_loss=0.8136949253082275, metrics={'train_runtime': 41.495, 'train_samples_per_second': 28.919, 'train_steps_per_second': 1.807, 'total_flos': 39768346828800.0, 'train_loss': 0.8136949253082275, 'epoch': 3.0})"
      ]
     },
     "execution_count": 10,
     "metadata": {},
     "output_type": "execute_result"
    }
   ],
   "source": [
    "trainer = Trainer(\n",
    "    model=model,\n",
    "    args=training_args,\n",
    "    train_dataset=tokenized_train,\n",
    "    eval_dataset=tokenized_test,\n",
    "    data_collator=data_collator,\n",
    ")\n",
    "\n",
    "trainer.train()"
   ]
  },
  {
   "cell_type": "markdown",
   "id": "886ed664-91be-4593-b71b-90a73d18c664",
   "metadata": {},
   "source": [
    "## Plot the training vs validation loss"
   ]
  },
  {
   "cell_type": "code",
   "execution_count": 11,
   "id": "2f350839-7caf-4e61-a5de-37114aeeecf4",
   "metadata": {},
   "outputs": [
    {
     "data": {
      "image/png": "[encoded data removed]",
      "text/plain": [
       "<Figure size 800x500 with 1 Axes>"
      ]
     },
     "metadata": {},
     "output_type": "display_data"
    }
   ],
   "source": [
    "import matplotlib.pyplot as plt\n",
    "\n",
    "# Re-create the plot after environment reset\n",
    "epochs = [1, 2, 3]\n",
    "training_loss = [1.4035, 0.2933, 0.3012]\n",
    "validation_loss = [0.624673, 0.329919, 0.235383]\n",
    "\n",
    "# Create the plot\n",
    "plt.figure(figsize=(8, 5))\n",
    "plt.plot(epochs, training_loss, label='Training Loss', marker='o')\n",
    "plt.plot(epochs, validation_loss, label='Validation Loss', marker='o')\n",
    "plt.xlabel('Epoch')\n",
    "plt.ylabel('Loss')\n",
    "plt.title('Training vs Validation Loss')\n",
    "plt.legend()\n",
    "plt.grid(True)\n",
    "plt.xticks(epochs)\n",
    "plt.show()"
   ]
  },
  {
   "cell_type": "markdown",
   "id": "d435dbd7-eebf-460a-a186-3281e4b48331",
   "metadata": {},
   "source": [
    "## Save the model after training"
   ]
  },
  {
   "cell_type": "code",
   "execution_count": 12,
   "id": "f64a11ab-7a6e-4152-ad50-c598e7802876",
   "metadata": {},
   "outputs": [
    {
     "name": "stdout",
     "output_type": "stream",
     "text": [
      "✅ Model and tokenizer saved!\n"
     ]
    }
   ],
   "source": [
    "model.save_pretrained('./legal-mlm-model')\n",
    "tokenizer.save_pretrained('./legal-mlm-model')\n",
    "\n",
    "print(\"✅ Model and tokenizer saved!\")"
   ]
  },
  {
   "cell_type": "markdown",
   "id": "1099efe8-24d9-4afa-b5b8-de3084ce4d26",
   "metadata": {},
   "source": [
    "## Load the model and tokenizer from the saved directory"
   ]
  },
  {
   "cell_type": "code",
   "execution_count": 13,
   "id": "c7a7a7bc-c1f9-4a63-8b63-7fb1c0b9e4d2",
   "metadata": {},
   "outputs": [
    {
     "name": "stderr",
     "output_type": "stream",
     "text": [
      "Device set to use cuda:0\n"
     ]
    }
   ],
   "source": [
    "from transformers import pipeline, AutoModelForMaskedLM, AutoTokenizer\n",
    "\n",
    "model = AutoModelForMaskedLM.from_pretrained('./legal-mlm-model')\n",
    "tokenizer = AutoTokenizer.from_pretrained('./legal-mlm-model')\n",
    "\n",
    "# Create a pipeline for fill-mask task\n",
    "fill_mask = pipeline(\n",
    "    \"fill-mask\",\n",
    "    model=model,\n",
    "    tokenizer=tokenizer,\n",
    ")"
   ]
  },
  {
   "cell_type": "markdown",
   "id": "08d5e700-b996-413f-8dd4-9c9c1aa85b87",
   "metadata": {},
   "source": [
    "## Test the model"
   ]
  },
  {
   "cell_type": "code",
   "execution_count": 14,
   "id": "fc0a984f-6feb-4e90-8b61-87dd9b4f5bee",
   "metadata": {},
   "outputs": [
    {
     "name": "stdout",
     "output_type": "stream",
     "text": [
      "\n",
      "Original: The judge issued a [MASK] after hearing the arguments.\n",
      ">>> the judge issued a ruling after hearing the arguments. (score: 0.9205)\n",
      ">>> the judge issued a statement after hearing the arguments. (score: 0.0177)\n",
      ">>> the judge issued a notice after hearing the arguments. (score: 0.0153)\n",
      ">>> the judge issued a warning after hearing the arguments. (score: 0.0045)\n",
      ">>> the judge issued a judgment after hearing the arguments. (score: 0.0045)\n",
      "\n",
      "Original: The attorney filed a [MASK] to dismiss the case.\n",
      ">>> the attorney filed a motion to dismiss the case. (score: 0.8366)\n",
      ">>> the attorney filed a lawsuit to dismiss the case. (score: 0.0551)\n",
      ">>> the attorney filed a petition to dismiss the case. (score: 0.0529)\n",
      ">>> the attorney filed a request to dismiss the case. (score: 0.0241)\n",
      ">>> the attorney filed a demand to dismiss the case. (score: 0.0074)\n",
      "\n",
      "Original: The settlement agreement was [MASK] by all parties.\n",
      ">>> the settlement agreement was agreed by all parties. (score: 0.3953)\n",
      ">>> the settlement agreement was retained by all parties. (score: 0.197)\n",
      ">>> the settlement agreement was accepted by all parties. (score: 0.1459)\n",
      ">>> the settlement agreement was rejected by all parties. (score: 0.0508)\n",
      ">>> the settlement agreement was maintained by all parties. (score: 0.0466)\n",
      "\n",
      "Original: The witness was asked to [MASK] under oath.\n",
      ">>> the witness was asked to testify under oath. (score: 0.36)\n",
      ">>> the witness was asked to swear under oath. (score: 0.3304)\n",
      ">>> the witness was asked to remain under oath. (score: 0.094)\n",
      ">>> the witness was asked to speak under oath. (score: 0.0564)\n",
      ">>> the witness was asked to comply under oath. (score: 0.0392)\n",
      "\n",
      "Original: The defendant was found [MASK] by the jury.\n",
      ">>> the defendant was found guilty by the jury. (score: 0.6816)\n",
      ">>> the defendant was found innocent by the jury. (score: 0.2651)\n",
      ">>> the defendant was found liable by the jury. (score: 0.0375)\n",
      ">>> the defendant was found insane by the jury. (score: 0.0035)\n",
      ">>> the defendant was found sane by the jury. (score: 0.0018)\n",
      "\n",
      "Original: The contract must be [MASK] according to state law.\n",
      ">>> the contract must be retained according to state law. (score: 0.5625)\n",
      ">>> the contract must be terminated according to state law. (score: 0.094)\n",
      ">>> the contract must be maintained according to state law. (score: 0.0323)\n",
      ">>> the contract must be renewed according to state law. (score: 0.0259)\n",
      ">>> the contract must be confidential according to state law. (score: 0.019)\n",
      "\n",
      "Original: The appeal was [MASK] by the higher court.\n",
      ">>> the appeal was rejected by the higher court. (score: 0.7116)\n",
      ">>> the appeal was dismissed by the higher court. (score: 0.1118)\n",
      ">>> the appeal was upheld by the higher court. (score: 0.048)\n",
      ">>> the appeal was denied by the higher court. (score: 0.0409)\n",
      ">>> the appeal was heard by the higher court. (score: 0.027)\n",
      "\n",
      "Original: The plaintiff sought [MASK] for damages.\n",
      ">>> the plaintiff sought payment for damages. (score: 0.5575)\n",
      ">>> the plaintiff sought compensation for damages. (score: 0.1468)\n",
      ">>> the plaintiff sought pay for damages. (score: 0.0485)\n",
      ">>> the plaintiff sought action for damages. (score: 0.0427)\n",
      ">>> the plaintiff sought claim for damages. (score: 0.0258)\n",
      "\n",
      "Original: The case was [MASK] due to lack of evidence.\n",
      ">>> the case was dismissed due to lack of evidence. (score: 0.5888)\n",
      ">>> the case was dropped due to lack of evidence. (score: 0.2299)\n",
      ">>> the case was closed due to lack of evidence. (score: 0.0447)\n",
      ">>> the case was rejected due to lack of evidence. (score: 0.0224)\n",
      ">>> the case was lost due to lack of evidence. (score: 0.0166)\n",
      "\n",
      "Original: The legal team prepared a [MASK] of evidence.\n",
      ">>> the legal team prepared a piece of evidence. (score: 0.2625)\n",
      ">>> the legal team prepared a summary of evidence. (score: 0.1603)\n",
      ">>> the legal team prepared a statement of evidence. (score: 0.1097)\n",
      ">>> the legal team prepared a record of evidence. (score: 0.0869)\n",
      ">>> the legal team prepared a body of evidence. (score: 0.0336)\n"
     ]
    }
   ],
   "source": [
    "test_sentences = [\n",
    "    \"The judge issued a [MASK] after hearing the arguments.\",\n",
    "    \"The attorney filed a [MASK] to dismiss the case.\",\n",
    "    \"The settlement agreement was [MASK] by all parties.\",\n",
    "    \"The witness was asked to [MASK] under oath.\",\n",
    "    \"The defendant was found [MASK] by the jury.\",\n",
    "    \"The contract must be [MASK] according to state law.\",\n",
    "    \"The appeal was [MASK] by the higher court.\",\n",
    "    \"The plaintiff sought [MASK] for damages.\",\n",
    "    \"The case was [MASK] due to lack of evidence.\",\n",
    "    \"The legal team prepared a [MASK] of evidence.\"\n",
    "]\n",
    "\n",
    "# Run the model on each sentence\n",
    "for sentence in test_sentences:\n",
    "    predictions = fill_mask(sentence)\n",
    "    print(f\"\\nOriginal: {sentence}\")\n",
    "    for pred in predictions:\n",
    "        print(f\">>> {pred['sequence']} (score: {round(pred['score'], 4)})\")"
   ]
  }
 ],
 "metadata": {
  "kernelspec": {
   "display_name": "Python 3 (ipykernel)",
   "language": "python",
   "name": "python3"
  },
  "language_info": {
   "codemirror_mode": {
    "name": "ipython",
    "version": 3
   },
   "file_extension": ".py",
   "mimetype": "text/x-python",
   "name": "python",
   "nbconvert_exporter": "python",
   "pygments_lexer": "ipython3",
   "version": "3.12.9"
  }
 },
 "nbformat": 4,
 "nbformat_minor": 5
}
